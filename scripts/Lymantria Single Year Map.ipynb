{
 "cells": [
  {
   "cell_type": "markdown",
   "id": "9b357e18-0501-495b-abe9-8210fa77d3a2",
   "metadata": {},
   "source": [
    "## This script generates a zoomable map for a single year of the Lymantria Trap data"
   ]
  },
  {
   "cell_type": "markdown",
   "id": "950516d2-fc17-47fc-9db0-7e668329e985",
   "metadata": {},
   "source": [
    "#### Import the needed libraries"
   ]
  },
  {
   "cell_type": "code",
   "execution_count": 22,
   "id": "79082098-a25e-402a-a48e-44a106cb935a",
   "metadata": {},
   "outputs": [],
   "source": [
    "import plotly.graph_objects as go\n",
    "import pandas as pd\n",
    "import numpy as np\n",
    "from mapbox import Geocoder\n",
    "\n",
    "geocoder = Geocoder(access_token=\".mapbox_tokenN\")"
   ]
  },
  {
   "cell_type": "markdown",
   "id": "a1682982-0842-4ff1-a1c1-a6db5215c3eb",
   "metadata": {},
   "source": [
    "#### The following function generates an appropriate map window and map zoom absed on thenGPS coordinates in the data"
   ]
  },
  {
   "cell_type": "code",
   "execution_count": 23,
   "id": "ca545fee-411b-46dc-9cca-26b23fec6a7c",
   "metadata": {},
   "outputs": [],
   "source": [
    "def zoom_center(lons: tuple = None, lats: tuple = None, lonlats: tuple = None,\n",
    "                format: str = 'lonlat', projection: str = 'mercator',\n",
    "                width_to_height: float = 2.0) -> (float, dict):\n",
    "    \"\"\"Finds optimal zoom and centering for a plotly mapbox.\n",
    "    Must be passed (lons & lats) or lonlats.\n",
    "    Temporary solution awaiting official implementation, see:\n",
    "    https://github.com/plotly/plotly.js/issues/3434\n",
    "\n",
    "    Parameters\n",
    "    --------\n",
    "    lons: tuple, optional, longitude component of each location\n",
    "    lats: tuple, optional, latitude component of each location\n",
    "    lonlats: tuple, optional, gps locations\n",
    "    format: str, specifying the order of longitud and latitude dimensions,\n",
    "        expected values: 'lonlat' or 'latlon', only used if passed lonlats\n",
    "    projection: str, only accepting 'mercator' at the moment,\n",
    "        raises `NotImplementedError` if other is passed\n",
    "    width_to_height: float, expected ratio of final graph's with to height,\n",
    "        used to select the constrained axis.\n",
    "\n",
    "    Returns\n",
    "    --------\n",
    "    zoom: float, from 1 to 20\n",
    "    center: dict, gps position with 'lon' and 'lat' keys\n",
    "\n",
    "#    >>> print(zoom_center((-109.031387, -103.385460),\n",
    "    ...     (25.587101, 31.784620)))\n",
    "    (5.75, {'lon': -106.208423, 'lat': 28.685861})\n",
    "    \"\"\"\n",
    "    if lons is None and lats is None:\n",
    "        if isinstance(lonlats, tuple):\n",
    "            lons, lats = zip(*lonlats)\n",
    "        else:\n",
    "            raise ValueError(\n",
    "                'Must pass lons & lats or lonlats'\n",
    "            )\n",
    "\n",
    "    maxlon, minlon = max(lons), min(lons)\n",
    "    maxlat, minlat = max(lats), min(lats)\n",
    "    center = {\n",
    "        'lon': round((maxlon + minlon) / 2, 6),\n",
    "        'lat': round((maxlat + minlat) / 2, 6)\n",
    "    }\n",
    "\n",
    "    # longitudinal range by zoom level (20 to 1)\n",
    "    # in degrees, if centered at equator\n",
    "    lon_zoom_range = np.array([\n",
    "        0.0007, 0.0014, 0.003, 0.006, 0.012, 0.024, 0.048, 0.096,\n",
    "        0.192, 0.3712, 0.768, 1.536, 3.072, 6.144, 11.8784, 23.7568,\n",
    "        47.5136, 98.304, 190.0544, 360.0\n",
    "    ])\n",
    "\n",
    "    if projection == 'mercator':\n",
    "        margin = 1.2\n",
    "        height = (maxlat - minlat) * margin * width_to_height\n",
    "        width = (maxlon - minlon) * margin\n",
    "        lon_zoom = np.interp(width, lon_zoom_range, range(20, 0, -1))\n",
    "        lat_zoom = np.interp(height, lon_zoom_range, range(20, 0, -1))\n",
    "        zoom = round(min(lon_zoom, lat_zoom), 2)\n",
    "    else:\n",
    "        raise NotImplementedError(\n",
    "            f'{projection} projection is not implemented'\n",
    "        )\n",
    "\n",
    "    return zoom, center\n"
   ]
  },
  {
   "cell_type": "markdown",
   "id": "1e8d6daf-39b0-45ee-9dc9-c85ec18ff64b",
   "metadata": {},
   "source": [
    "#### Read in the data"
   ]
  },
  {
   "cell_type": "code",
   "execution_count": 24,
   "id": "5c4b3a20-0b24-4578-afa9-b0368d47856c",
   "metadata": {},
   "outputs": [
    {
     "data": {
      "text/html": [
       "<div>\n",
       "<style scoped>\n",
       "    .dataframe tbody tr th:only-of-type {\n",
       "        vertical-align: middle;\n",
       "    }\n",
       "\n",
       "    .dataframe tbody tr th {\n",
       "        vertical-align: top;\n",
       "    }\n",
       "\n",
       "    .dataframe thead th {\n",
       "        text-align: right;\n",
       "    }\n",
       "</style>\n",
       "<table border=\"1\" class=\"dataframe\">\n",
       "  <thead>\n",
       "    <tr style=\"text-align: right;\">\n",
       "      <th></th>\n",
       "      <th>POINT_X</th>\n",
       "      <th>POINT_Y</th>\n",
       "      <th>count</th>\n",
       "      <th>year</th>\n",
       "    </tr>\n",
       "  </thead>\n",
       "  <tbody>\n",
       "    <tr>\n",
       "      <th>0</th>\n",
       "      <td>-78.349984</td>\n",
       "      <td>35.395156</td>\n",
       "      <td>0</td>\n",
       "      <td>1988</td>\n",
       "    </tr>\n",
       "    <tr>\n",
       "      <th>1</th>\n",
       "      <td>-81.043286</td>\n",
       "      <td>35.265153</td>\n",
       "      <td>0</td>\n",
       "      <td>1988</td>\n",
       "    </tr>\n",
       "    <tr>\n",
       "      <th>2</th>\n",
       "      <td>-81.019992</td>\n",
       "      <td>35.288449</td>\n",
       "      <td>0</td>\n",
       "      <td>1988</td>\n",
       "    </tr>\n",
       "    <tr>\n",
       "      <th>3</th>\n",
       "      <td>-81.059996</td>\n",
       "      <td>35.291753</td>\n",
       "      <td>0</td>\n",
       "      <td>1988</td>\n",
       "    </tr>\n",
       "    <tr>\n",
       "      <th>4</th>\n",
       "      <td>-81.079981</td>\n",
       "      <td>35.288451</td>\n",
       "      <td>0</td>\n",
       "      <td>1988</td>\n",
       "    </tr>\n",
       "    <tr>\n",
       "      <th>...</th>\n",
       "      <td>...</td>\n",
       "      <td>...</td>\n",
       "      <td>...</td>\n",
       "      <td>...</td>\n",
       "    </tr>\n",
       "    <tr>\n",
       "      <th>3021792</th>\n",
       "      <td>-83.376008</td>\n",
       "      <td>40.082736</td>\n",
       "      <td>0</td>\n",
       "      <td>2019</td>\n",
       "    </tr>\n",
       "    <tr>\n",
       "      <th>3021793</th>\n",
       "      <td>-83.407256</td>\n",
       "      <td>40.086289</td>\n",
       "      <td>0</td>\n",
       "      <td>2019</td>\n",
       "    </tr>\n",
       "    <tr>\n",
       "      <th>3021794</th>\n",
       "      <td>-83.452638</td>\n",
       "      <td>40.078905</td>\n",
       "      <td>0</td>\n",
       "      <td>2019</td>\n",
       "    </tr>\n",
       "    <tr>\n",
       "      <th>3021795</th>\n",
       "      <td>-83.142491</td>\n",
       "      <td>40.089619</td>\n",
       "      <td>0</td>\n",
       "      <td>2019</td>\n",
       "    </tr>\n",
       "    <tr>\n",
       "      <th>3021796</th>\n",
       "      <td>-81.850770</td>\n",
       "      <td>40.304239</td>\n",
       "      <td>5</td>\n",
       "      <td>2019</td>\n",
       "    </tr>\n",
       "  </tbody>\n",
       "</table>\n",
       "<p>3021797 rows × 4 columns</p>\n",
       "</div>"
      ],
      "text/plain": [
       "           POINT_X    POINT_Y  count  year\n",
       "0       -78.349984  35.395156      0  1988\n",
       "1       -81.043286  35.265153      0  1988\n",
       "2       -81.019992  35.288449      0  1988\n",
       "3       -81.059996  35.291753      0  1988\n",
       "4       -81.079981  35.288451      0  1988\n",
       "...            ...        ...    ...   ...\n",
       "3021792 -83.376008  40.082736      0  2019\n",
       "3021793 -83.407256  40.086289      0  2019\n",
       "3021794 -83.452638  40.078905      0  2019\n",
       "3021795 -83.142491  40.089619      0  2019\n",
       "3021796 -81.850770  40.304239      5  2019\n",
       "\n",
       "[3021797 rows x 4 columns]"
      ]
     },
     "execution_count": 24,
     "metadata": {},
     "output_type": "execute_result"
    }
   ],
   "source": [
    "df = pd.read_csv('/Users/Douglas/Documents/GitHub/Lymantria/data/combined_csv.csv')\n",
    "df"
   ]
  },
  {
   "cell_type": "markdown",
   "id": "b0386e0f-b2a0-4c91-a095-ee28dcea39b3",
   "metadata": {},
   "source": [
    "#### The followng manipulate the data in some useful ways"
   ]
  },
  {
   "cell_type": "code",
   "execution_count": 25,
   "id": "5db25fc6-85b7-4e3f-a3fa-171c6240ad7f",
   "metadata": {},
   "outputs": [
    {
     "name": "stderr",
     "output_type": "stream",
     "text": [
      "/usr/local/lib/python3.7/site-packages/ipykernel_launcher.py:11: SettingWithCopyWarning:\n",
      "\n",
      "\n",
      "A value is trying to be set on a copy of a slice from a DataFrame.\n",
      "Try using .loc[row_indexer,col_indexer] = value instead\n",
      "\n",
      "See the caveats in the documentation: https://pandas.pydata.org/pandas-docs/stable/user_guide/indexing.html#returning-a-view-versus-a-copy\n",
      "\n"
     ]
    }
   ],
   "source": [
    "# Select the year of data we want to map\n",
    "df = df[df['year'] == 2016]\n",
    "\n",
    "# define the range of lat/long points to set the limits of the map\n",
    "min_x = df['POINT_X'].min()\n",
    "max_x = df['POINT_X'].max()\n",
    "min_y = df['POINT_Y'].min()\n",
    "max_y = df['POINT_Y'].max()\n",
    "\n",
    "# define the format of the text that appears when you hover over a data point on the pa\n",
    "df['text'] = '<br>Moths Trapped ' + (df['count']).astype(str)\n",
    "\n",
    "# a list that contains the lower, upper limits for 5 bins of trap counts\n",
    "limits = [(0, 1), (1, 20), (20, 50), (50, 200), (200, 3000)]\n",
    "\n",
    "# a list that contains the colors that correspond to each bin size of  trap counts\n",
    "colors = [\"lightseagreen\", \"yellow\", \"orange\", \"crimson\", \"red\"]\n",
    "scale = 5000\n"
   ]
  },
  {
   "cell_type": "markdown",
   "id": "a1b4b886-d983-4027-9c07-16247cbe773d",
   "metadata": {},
   "source": [
    "#### Call the function that returns the center and the zoom leve of the map"
   ]
  },
  {
   "cell_type": "code",
   "execution_count": 26,
   "id": "c17636a8-3058-4230-a232-c3db3da08ea6",
   "metadata": {},
   "outputs": [],
   "source": [
    "zoom, center = zoom_center(\n",
    "    lons=[min_x, max_x],\n",
    "    lats=[min_y - 3, max_y + 4])"
   ]
  },
  {
   "cell_type": "markdown",
   "id": "27d5ba4e-7eaa-4f1b-9ad7-a9f5420e3aa9",
   "metadata": {},
   "source": [
    "#### Generate the map itself"
   ]
  },
  {
   "cell_type": "code",
   "execution_count": 27,
   "id": "4bb6c066-2eda-4ddb-b6c8-39f36188007c",
   "metadata": {},
   "outputs": [],
   "source": [
    "fig = go.Figure()\n",
    "\n",
    "# This loop iterates through each bin size, and assigns a size and color to the markers on the map\n",
    "for i in range(len(limits)):\n",
    "    lim = limits[i]\n",
    "    df_sub = df[(df[\"count\"] >= lim[0]) & (df[\"count\"] < lim[1])]\n",
    "    fig.add_trace(go.Scattermapbox(\n",
    "       lon=df_sub['POINT_X'],\n",
    "        lat=df_sub['POINT_Y'],\n",
    "        text=df_sub['text'],\n",
    "        marker=dict(\n",
    "            size=(df_sub['count'] / 1.5 + 10),\n",
    "            color=colors[i],\n",
    "            sizemode='area',\n",
    "        ),\n",
    "        name='{0} - {1}'.format(lim[0], lim[1])))"
   ]
  },
  {
   "cell_type": "markdown",
   "id": "b0b6ad6c-9213-4562-9fd5-c68c31baae7a",
   "metadata": {},
   "source": [
    "#### Just some figure style updates, then write to an html file"
   ]
  },
  {
   "cell_type": "code",
   "execution_count": 30,
   "id": "15cdd44d-6158-4dfb-8cb4-6edd6aabdd44",
   "metadata": {},
   "outputs": [],
   "source": [
    "fig.update_layout(\n",
    "    mapbox_style=\"open-street-map\",\n",
    "    mapbox={'center': center, 'zoom': zoom},\n",
    "    title_text='2016 Lymantria Trap Data',\n",
    "    showlegend=True,\n",
    ")\n",
    "fig.write_html(\"2016.html\")"
   ]
  },
  {
   "cell_type": "code",
   "execution_count": 20,
   "id": "3a3fb71b-2d0f-4ba4-b47e-b343b1a84433",
   "metadata": {},
   "outputs": [],
   "source": []
  },
  {
   "cell_type": "code",
   "execution_count": null,
   "id": "238849f6-2c85-4e11-972f-1596ee0f1aa7",
   "metadata": {},
   "outputs": [],
   "source": []
  }
 ],
 "metadata": {
  "kernelspec": {
   "display_name": "Python 3 (ipykernel)",
   "language": "python",
   "name": "python3"
  },
  "language_info": {
   "codemirror_mode": {
    "name": "ipython",
    "version": 3
   },
   "file_extension": ".py",
   "mimetype": "text/x-python",
   "name": "python",
   "nbconvert_exporter": "python",
   "pygments_lexer": "ipython3",
   "version": "3.7.7"
  }
 },
 "nbformat": 4,
 "nbformat_minor": 5
}
