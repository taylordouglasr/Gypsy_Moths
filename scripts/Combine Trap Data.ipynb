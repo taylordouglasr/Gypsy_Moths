{
 "cells": [
  {
   "cell_type": "markdown",
   "id": "02843d29-abe1-4324-869f-a8fb62442f44",
   "metadata": {},
   "source": [
    "## This notebook combines a local directory of separate files containing trap data and combines them into a single file."
   ]
  },
  {
   "cell_type": "markdown",
   "id": "612ace00-035f-4c2f-a5e5-25d2db689e98",
   "metadata": {},
   "source": [
    "#### Import the necessary python packages"
   ]
  },
  {
   "cell_type": "code",
   "execution_count": 8,
   "id": "3596d9a3-ab14-4d90-a84c-be309e59f9b0",
   "metadata": {},
   "outputs": [],
   "source": [
    "import os\n",
    "import glob\n",
    "import pandas as pd"
   ]
  },
  {
   "cell_type": "markdown",
   "id": "6a50cdda-b0da-4462-9bdf-b7819edbdb8f",
   "metadata": {},
   "source": [
    "#### Generate a list of filenames from that directory, note that all the names end in the year the data are taken from."
   ]
  },
  {
   "cell_type": "code",
   "execution_count": 10,
   "id": "f54d751d-f4de-4e19-8a70-57ec7fd76f3a",
   "metadata": {},
   "outputs": [],
   "source": [
    "os.chdir(\"/Users/Douglas/Dropbox/Current Activities/Research/Lymantria/trap_coords\")\n",
    "extension = 'csv'\n",
    "all_filenames = [i for i in glob.glob('*.{}'.format(extension))]\n",
    "combined_csv = pd.DataFrame()"
   ]
  },
  {
   "cell_type": "markdown",
   "id": "1d3e91a4-a0e1-4c3d-8bda-d3ce0f663146",
   "metadata": {},
   "source": [
    "#### Combine all the files contained in the list of files"
   ]
  },
  {
   "cell_type": "code",
   "execution_count": 11,
   "id": "559628e7-4bbe-4ff0-9f0a-3e13be731844",
   "metadata": {},
   "outputs": [
    {
     "data": {
      "text/html": [
       "<div>\n",
       "<style scoped>\n",
       "    .dataframe tbody tr th:only-of-type {\n",
       "        vertical-align: middle;\n",
       "    }\n",
       "\n",
       "    .dataframe tbody tr th {\n",
       "        vertical-align: top;\n",
       "    }\n",
       "\n",
       "    .dataframe thead th {\n",
       "        text-align: right;\n",
       "    }\n",
       "</style>\n",
       "<table border=\"1\" class=\"dataframe\">\n",
       "  <thead>\n",
       "    <tr style=\"text-align: right;\">\n",
       "      <th></th>\n",
       "      <th>POINT_X</th>\n",
       "      <th>POINT_Y</th>\n",
       "      <th>count</th>\n",
       "      <th>year</th>\n",
       "    </tr>\n",
       "  </thead>\n",
       "  <tbody>\n",
       "    <tr>\n",
       "      <th>0</th>\n",
       "      <td>-77.573289</td>\n",
       "      <td>34.765168</td>\n",
       "      <td>0</td>\n",
       "      <td>1988</td>\n",
       "    </tr>\n",
       "    <tr>\n",
       "      <th>1</th>\n",
       "      <td>-80.946690</td>\n",
       "      <td>35.961736</td>\n",
       "      <td>0</td>\n",
       "      <td>1988</td>\n",
       "    </tr>\n",
       "    <tr>\n",
       "      <th>2</th>\n",
       "      <td>-80.989989</td>\n",
       "      <td>35.965142</td>\n",
       "      <td>0</td>\n",
       "      <td>1988</td>\n",
       "    </tr>\n",
       "    <tr>\n",
       "      <th>3</th>\n",
       "      <td>-80.949982</td>\n",
       "      <td>35.991735</td>\n",
       "      <td>0</td>\n",
       "      <td>1988</td>\n",
       "    </tr>\n",
       "    <tr>\n",
       "      <th>4</th>\n",
       "      <td>-81.026687</td>\n",
       "      <td>35.721742</td>\n",
       "      <td>0</td>\n",
       "      <td>1988</td>\n",
       "    </tr>\n",
       "    <tr>\n",
       "      <th>...</th>\n",
       "      <td>...</td>\n",
       "      <td>...</td>\n",
       "      <td>...</td>\n",
       "      <td>...</td>\n",
       "    </tr>\n",
       "    <tr>\n",
       "      <th>6043589</th>\n",
       "      <td>-90.505752</td>\n",
       "      <td>39.829559</td>\n",
       "      <td>0</td>\n",
       "      <td>_csv</td>\n",
       "    </tr>\n",
       "    <tr>\n",
       "      <th>6043590</th>\n",
       "      <td>-90.434154</td>\n",
       "      <td>39.826672</td>\n",
       "      <td>0</td>\n",
       "      <td>_csv</td>\n",
       "    </tr>\n",
       "    <tr>\n",
       "      <th>6043591</th>\n",
       "      <td>-90.387561</td>\n",
       "      <td>39.842982</td>\n",
       "      <td>0</td>\n",
       "      <td>_csv</td>\n",
       "    </tr>\n",
       "    <tr>\n",
       "      <th>6043592</th>\n",
       "      <td>-90.522325</td>\n",
       "      <td>39.750386</td>\n",
       "      <td>0</td>\n",
       "      <td>_csv</td>\n",
       "    </tr>\n",
       "    <tr>\n",
       "      <th>6043593</th>\n",
       "      <td>-86.742834</td>\n",
       "      <td>38.862547</td>\n",
       "      <td>0</td>\n",
       "      <td>_csv</td>\n",
       "    </tr>\n",
       "  </tbody>\n",
       "</table>\n",
       "<p>6043594 rows × 4 columns</p>\n",
       "</div>"
      ],
      "text/plain": [
       "           POINT_X    POINT_Y  count  year\n",
       "0       -77.573289  34.765168      0  1988\n",
       "1       -80.946690  35.961736      0  1988\n",
       "2       -80.989989  35.965142      0  1988\n",
       "3       -80.949982  35.991735      0  1988\n",
       "4       -81.026687  35.721742      0  1988\n",
       "...            ...        ...    ...   ...\n",
       "6043589 -90.505752  39.829559      0  _csv\n",
       "6043590 -90.434154  39.826672      0  _csv\n",
       "6043591 -90.387561  39.842982      0  _csv\n",
       "6043592 -90.522325  39.750386      0  _csv\n",
       "6043593 -86.742834  38.862547      0  _csv\n",
       "\n",
       "[6043594 rows x 4 columns]"
      ]
     },
     "execution_count": 11,
     "metadata": {},
     "output_type": "execute_result"
    }
   ],
   "source": [
    "for i in all_filenames:\n",
    "    temp = pd.read_csv(i)\n",
    "    yr = i[:-4]\n",
    "    yr = yr[-4:]\n",
    "    temp['year'] = yr\n",
    "    combined_csv = combined_csv.append(temp, ignore_index=True)\n",
    "combined_csv = combined_csv.sort_values(by=['year'], ignore_index=True)\n",
    "combined_csv"
   ]
  },
  {
   "cell_type": "markdown",
   "id": "2e0c2b1f-a34d-4ddf-ad34-774f8f452d61",
   "metadata": {},
   "source": [
    "#### The data contain trap X/Y coords, trap counts and the year they were collected."
   ]
  },
  {
   "cell_type": "markdown",
   "id": "93628cd8-817c-4de4-b6ca-4048d0c9d416",
   "metadata": {},
   "source": [
    "#### Write the file to a .csv, which is written to the same directory the trap coordinate files are read from. A copy of this is available on the github repository."
   ]
  },
  {
   "cell_type": "code",
   "execution_count": 13,
   "id": "643d9ce7-eec9-47e3-9b59-42b5b846976b",
   "metadata": {},
   "outputs": [],
   "source": [
    "combined_csv.to_csv( \"combined_csv.csv\", index=False, encoding='utf-8-sig')"
   ]
  },
  {
   "cell_type": "code",
   "execution_count": null,
   "id": "5d100157-9b92-4d8d-82a2-3983b53edef5",
   "metadata": {},
   "outputs": [],
   "source": []
  }
 ],
 "metadata": {
  "kernelspec": {
   "display_name": "Python 3 (ipykernel)",
   "language": "python",
   "name": "python3"
  },
  "language_info": {
   "codemirror_mode": {
    "name": "ipython",
    "version": 3
   },
   "file_extension": ".py",
   "mimetype": "text/x-python",
   "name": "python",
   "nbconvert_exporter": "python",
   "pygments_lexer": "ipython3",
   "version": "3.7.7"
  }
 },
 "nbformat": 4,
 "nbformat_minor": 5
}
