{
 "cells": [
  {
   "cell_type": "markdown",
   "id": "b27751ac-aa02-4f31-9681-4987bf6dc4a1",
   "metadata": {},
   "source": [
    "## This notebook generates animated zoomable maps of the Lymantria data"
   ]
  },
  {
   "cell_type": "markdown",
   "id": "ac422537-d9fb-403a-9b1a-4186738b415b",
   "metadata": {},
   "source": [
    "### Notbooks that preceded this, which parse the data, and generate a static map fopr a single year, are in progress"
   ]
  },
  {
   "cell_type": "markdown",
   "id": "de0104b4-c02b-499c-85b2-f34fdf3112d2",
   "metadata": {},
   "source": [
    "#### Import the necessary Python libraries"
   ]
  },
  {
   "cell_type": "code",
   "execution_count": 5,
   "id": "eba7a9e4-d0b1-4829-b049-0d9a057d5dd6",
   "metadata": {},
   "outputs": [],
   "source": [
    "import plotly.graph_objects as go\n",
    "import pandas as pd\n",
    "import numpy as np\n",
    "from mapbox import Geocoder"
   ]
  },
  {
   "cell_type": "markdown",
   "id": "7e17ad5e-ae51-4a1d-a2b0-eedd2ee7562f",
   "metadata": {},
   "source": [
    "#### Mapbox reqires a token, this provides the token which is located in a separate file. You will need this file to visualize the maps"
   ]
  },
  {
   "cell_type": "code",
   "execution_count": 6,
   "id": "e803bcac-de8b-41eb-86db-89a127e2c97d",
   "metadata": {},
   "outputs": [],
   "source": [
    "geocoder = Geocoder(access_token=\".mapbox_tokenN\")"
   ]
  },
  {
   "cell_type": "code",
   "execution_count": null,
   "id": "7a7ea57f-a2c8-4558-a29c-ff23fbfa0e35",
   "metadata": {},
   "outputs": [],
   "source": []
  }
 ],
 "metadata": {
  "kernelspec": {
   "display_name": "Python 3 (ipykernel)",
   "language": "python",
   "name": "python3"
  },
  "language_info": {
   "codemirror_mode": {
    "name": "ipython",
    "version": 3
   },
   "file_extension": ".py",
   "mimetype": "text/x-python",
   "name": "python",
   "nbconvert_exporter": "python",
   "pygments_lexer": "ipython3",
   "version": "3.7.7"
  }
 },
 "nbformat": 4,
 "nbformat_minor": 5
}
